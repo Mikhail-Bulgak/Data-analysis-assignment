{
 "cells": [
  {
   "cell_type": "code",
   "execution_count": 1,
   "metadata": {},
   "outputs": [],
   "source": [
    "import pandas as pd\n",
    "import numpy as np\n",
    "import matplotlib.pyplot as plt"
   ]
  },
  {
   "cell_type": "code",
   "execution_count": 2,
   "metadata": {},
   "outputs": [],
   "source": [
    "data = pd.read_excel(r'C:\\Users\\bulga\\OneDrive\\Рабочий стол\\Задание\\Задание по аналитике2.xlsx')"
   ]
  },
  {
   "cell_type": "code",
   "execution_count": 3,
   "metadata": {},
   "outputs": [
    {
     "name": "stdout",
     "output_type": "stream",
     "text": [
      "<class 'pandas.core.frame.DataFrame'>\n",
      "RangeIndex: 152511 entries, 0 to 152510\n",
      "Data columns (total 8 columns):\n",
      " #   Column      Non-Null Count   Dtype         \n",
      "---  ------      --------------   -----         \n",
      " 0   CREATE_DT   152511 non-null  datetime64[ns]\n",
      " 1   CHANNEL     152511 non-null  object        \n",
      " 2   CANCEL_FLG  152511 non-null  int64         \n",
      " 3   NOTBE_FLG   152511 non-null  int64         \n",
      " 4   AGRY_FLG    152511 non-null  int64         \n",
      " 5   PRODUCT_NM  152511 non-null  object        \n",
      " 6   AGREEMENT   152511 non-null  int64         \n",
      " 7   APPL        152511 non-null  int64         \n",
      "dtypes: datetime64[ns](1), int64(5), object(2)\n",
      "memory usage: 9.3+ MB\n"
     ]
    }
   ],
   "source": [
    "data.info()"
   ]
  },
  {
   "cell_type": "markdown",
   "metadata": {},
   "source": [
    "**Описание бизнес-процесса:** \n",
    "\n",
    "Существует несколько каналов коммуникаций с клиентами, по результатам коммуникаций клиент либо оформляет продукт (есть подписание договора или заявки) либо нет. Коммуникации могут состояться с разным вариантом: есть ситуации отмены (тех. проблемы), есть ситуации, когда коммуникация не была просмотрена клиентом и есть прочитанные клиентом коммуникации, в рамках которых клиент может перейти по ссылке (реакция клиента), а может и не отреагировать. При этом возможны случаи, когда клиент самостоятельно может оформить продукт, независимо от статуса коммуникации.\n"
   ]
  },
  {
   "cell_type": "markdown",
   "metadata": {},
   "source": [
    "Описание data-set:\n",
    "\n",
    "выгрузка коммуникаций за 3 месяца в разрезе разных признаков (см. Описание полей data-set).\n",
    "\n",
    "Что требуется: \n",
    "1.\tОпределить канал где больше всего тех. проблем.\n",
    "2.\tОпределить месяц с большей долей тех. проблем.\n",
    "3.\tОпределить продукт, коммуникации по которому меньше всего доходят до клиента (клиент ее не видит) и это не связано с тех. проблемами\n",
    "4.\tОпределить продукт, к которому клиенты не проявляют интереса\n",
    "5.\tОпределить связку канал-продукт, по которой было больше всего коммуникаций за месяц\n",
    "6.\tОпределить канал, от которого больше всего эффект (доля продаж через коммуникации выше чем доля самостоятельных «покупок» клиента не связанных с коммуникацией).\n",
    "\n",
    "Описание полей data-set\n",
    "\n",
    "|Поле|Описание|\n",
    "|------|-------|\n",
    "|CREATE_DT|Дата отправки коммуникации|\n",
    "|CHANNEL|Канал коммуникации|\n",
    "|CANCEL_FLG|Признак что коммуникация была отменена|\n",
    "|NOTBE_FLG|Признак что коммуникация не состоялась (клиент ее не увидел)|\n",
    "|AGRY_FLG|Признак что коммуникация завершилась успехом (клиент ее увидел и отреагировал)|\n",
    "|PRODUCT_NM|Продукт|\n",
    "|AGREEMENT|Признак наличия договора|\n",
    "|APPL|Признак наличия заявки|"
   ]
  },
  {
   "cell_type": "code",
   "execution_count": 4,
   "metadata": {},
   "outputs": [
    {
     "data": {
      "text/html": [
       "<div>\n",
       "<style scoped>\n",
       "    .dataframe tbody tr th:only-of-type {\n",
       "        vertical-align: middle;\n",
       "    }\n",
       "\n",
       "    .dataframe tbody tr th {\n",
       "        vertical-align: top;\n",
       "    }\n",
       "\n",
       "    .dataframe thead th {\n",
       "        text-align: right;\n",
       "    }\n",
       "</style>\n",
       "<table border=\"1\" class=\"dataframe\">\n",
       "  <thead>\n",
       "    <tr style=\"text-align: right;\">\n",
       "      <th></th>\n",
       "      <th>CREATE_DT</th>\n",
       "      <th>CHANNEL</th>\n",
       "      <th>CANCEL_FLG</th>\n",
       "      <th>NOTBE_FLG</th>\n",
       "      <th>AGRY_FLG</th>\n",
       "      <th>PRODUCT_NM</th>\n",
       "      <th>AGREEMENT</th>\n",
       "      <th>APPL</th>\n",
       "    </tr>\n",
       "  </thead>\n",
       "  <tbody>\n",
       "    <tr>\n",
       "      <th>0</th>\n",
       "      <td>2021-09-17</td>\n",
       "      <td>Канал 1</td>\n",
       "      <td>0</td>\n",
       "      <td>0</td>\n",
       "      <td>0</td>\n",
       "      <td>Продукт 1</td>\n",
       "      <td>0</td>\n",
       "      <td>0</td>\n",
       "    </tr>\n",
       "    <tr>\n",
       "      <th>1</th>\n",
       "      <td>2021-09-20</td>\n",
       "      <td>Канал 1</td>\n",
       "      <td>0</td>\n",
       "      <td>0</td>\n",
       "      <td>0</td>\n",
       "      <td>Продукт 1</td>\n",
       "      <td>0</td>\n",
       "      <td>0</td>\n",
       "    </tr>\n",
       "    <tr>\n",
       "      <th>2</th>\n",
       "      <td>2021-09-20</td>\n",
       "      <td>Канал 1</td>\n",
       "      <td>0</td>\n",
       "      <td>0</td>\n",
       "      <td>1</td>\n",
       "      <td>Продукт 1</td>\n",
       "      <td>0</td>\n",
       "      <td>0</td>\n",
       "    </tr>\n",
       "    <tr>\n",
       "      <th>3</th>\n",
       "      <td>2021-09-20</td>\n",
       "      <td>Канал 1</td>\n",
       "      <td>1</td>\n",
       "      <td>0</td>\n",
       "      <td>0</td>\n",
       "      <td>Продукт 1</td>\n",
       "      <td>0</td>\n",
       "      <td>1</td>\n",
       "    </tr>\n",
       "    <tr>\n",
       "      <th>4</th>\n",
       "      <td>2021-09-20</td>\n",
       "      <td>Канал 1</td>\n",
       "      <td>0</td>\n",
       "      <td>0</td>\n",
       "      <td>0</td>\n",
       "      <td>Продукт 1</td>\n",
       "      <td>0</td>\n",
       "      <td>0</td>\n",
       "    </tr>\n",
       "  </tbody>\n",
       "</table>\n",
       "</div>"
      ],
      "text/plain": [
       "   CREATE_DT  CHANNEL  CANCEL_FLG  NOTBE_FLG  AGRY_FLG PRODUCT_NM  AGREEMENT  \\\n",
       "0 2021-09-17  Канал 1           0          0         0  Продукт 1          0   \n",
       "1 2021-09-20  Канал 1           0          0         0  Продукт 1          0   \n",
       "2 2021-09-20  Канал 1           0          0         1  Продукт 1          0   \n",
       "3 2021-09-20  Канал 1           1          0         0  Продукт 1          0   \n",
       "4 2021-09-20  Канал 1           0          0         0  Продукт 1          0   \n",
       "\n",
       "   APPL  \n",
       "0     0  \n",
       "1     0  \n",
       "2     0  \n",
       "3     1  \n",
       "4     0  "
      ]
     },
     "execution_count": 4,
     "metadata": {},
     "output_type": "execute_result"
    }
   ],
   "source": [
    "data.head()"
   ]
  },
  {
   "cell_type": "code",
   "execution_count": 5,
   "metadata": {},
   "outputs": [],
   "source": [
    "# дополним данные: добавим столбец \"месяц\" и связка \"канал-продукт\"\n",
    "\n",
    "data['MONTH'] = data['CREATE_DT'].dt.month\n",
    "data['CHANNEL_PRODUCT'] = data['CHANNEL'] + ' - ' + data['PRODUCT_NM']"
   ]
  },
  {
   "cell_type": "code",
   "execution_count": 6,
   "metadata": {},
   "outputs": [
    {
     "data": {
      "text/html": [
       "<div>\n",
       "<style scoped>\n",
       "    .dataframe tbody tr th:only-of-type {\n",
       "        vertical-align: middle;\n",
       "    }\n",
       "\n",
       "    .dataframe tbody tr th {\n",
       "        vertical-align: top;\n",
       "    }\n",
       "\n",
       "    .dataframe thead th {\n",
       "        text-align: right;\n",
       "    }\n",
       "</style>\n",
       "<table border=\"1\" class=\"dataframe\">\n",
       "  <thead>\n",
       "    <tr style=\"text-align: right;\">\n",
       "      <th></th>\n",
       "      <th>CREATE_DT</th>\n",
       "      <th>CHANNEL</th>\n",
       "      <th>CANCEL_FLG</th>\n",
       "      <th>NOTBE_FLG</th>\n",
       "      <th>AGRY_FLG</th>\n",
       "      <th>PRODUCT_NM</th>\n",
       "      <th>AGREEMENT</th>\n",
       "      <th>APPL</th>\n",
       "      <th>MONTH</th>\n",
       "      <th>CHANNEL_PRODUCT</th>\n",
       "    </tr>\n",
       "  </thead>\n",
       "  <tbody>\n",
       "    <tr>\n",
       "      <th>0</th>\n",
       "      <td>2021-09-17</td>\n",
       "      <td>Канал 1</td>\n",
       "      <td>0</td>\n",
       "      <td>0</td>\n",
       "      <td>0</td>\n",
       "      <td>Продукт 1</td>\n",
       "      <td>0</td>\n",
       "      <td>0</td>\n",
       "      <td>9</td>\n",
       "      <td>Канал 1 - Продукт 1</td>\n",
       "    </tr>\n",
       "    <tr>\n",
       "      <th>1</th>\n",
       "      <td>2021-09-20</td>\n",
       "      <td>Канал 1</td>\n",
       "      <td>0</td>\n",
       "      <td>0</td>\n",
       "      <td>0</td>\n",
       "      <td>Продукт 1</td>\n",
       "      <td>0</td>\n",
       "      <td>0</td>\n",
       "      <td>9</td>\n",
       "      <td>Канал 1 - Продукт 1</td>\n",
       "    </tr>\n",
       "    <tr>\n",
       "      <th>2</th>\n",
       "      <td>2021-09-20</td>\n",
       "      <td>Канал 1</td>\n",
       "      <td>0</td>\n",
       "      <td>0</td>\n",
       "      <td>1</td>\n",
       "      <td>Продукт 1</td>\n",
       "      <td>0</td>\n",
       "      <td>0</td>\n",
       "      <td>9</td>\n",
       "      <td>Канал 1 - Продукт 1</td>\n",
       "    </tr>\n",
       "    <tr>\n",
       "      <th>3</th>\n",
       "      <td>2021-09-20</td>\n",
       "      <td>Канал 1</td>\n",
       "      <td>1</td>\n",
       "      <td>0</td>\n",
       "      <td>0</td>\n",
       "      <td>Продукт 1</td>\n",
       "      <td>0</td>\n",
       "      <td>1</td>\n",
       "      <td>9</td>\n",
       "      <td>Канал 1 - Продукт 1</td>\n",
       "    </tr>\n",
       "    <tr>\n",
       "      <th>4</th>\n",
       "      <td>2021-09-20</td>\n",
       "      <td>Канал 1</td>\n",
       "      <td>0</td>\n",
       "      <td>0</td>\n",
       "      <td>0</td>\n",
       "      <td>Продукт 1</td>\n",
       "      <td>0</td>\n",
       "      <td>0</td>\n",
       "      <td>9</td>\n",
       "      <td>Канал 1 - Продукт 1</td>\n",
       "    </tr>\n",
       "    <tr>\n",
       "      <th>...</th>\n",
       "      <td>...</td>\n",
       "      <td>...</td>\n",
       "      <td>...</td>\n",
       "      <td>...</td>\n",
       "      <td>...</td>\n",
       "      <td>...</td>\n",
       "      <td>...</td>\n",
       "      <td>...</td>\n",
       "      <td>...</td>\n",
       "      <td>...</td>\n",
       "    </tr>\n",
       "    <tr>\n",
       "      <th>152506</th>\n",
       "      <td>2021-11-01</td>\n",
       "      <td>Канал 6</td>\n",
       "      <td>1</td>\n",
       "      <td>0</td>\n",
       "      <td>0</td>\n",
       "      <td>Продукт 9</td>\n",
       "      <td>0</td>\n",
       "      <td>0</td>\n",
       "      <td>11</td>\n",
       "      <td>Канал 6 - Продукт 9</td>\n",
       "    </tr>\n",
       "    <tr>\n",
       "      <th>152507</th>\n",
       "      <td>2021-11-08</td>\n",
       "      <td>Канал 6</td>\n",
       "      <td>0</td>\n",
       "      <td>0</td>\n",
       "      <td>0</td>\n",
       "      <td>Продукт 9</td>\n",
       "      <td>0</td>\n",
       "      <td>0</td>\n",
       "      <td>11</td>\n",
       "      <td>Канал 6 - Продукт 9</td>\n",
       "    </tr>\n",
       "    <tr>\n",
       "      <th>152508</th>\n",
       "      <td>2021-11-15</td>\n",
       "      <td>Канал 6</td>\n",
       "      <td>0</td>\n",
       "      <td>0</td>\n",
       "      <td>0</td>\n",
       "      <td>Продукт 9</td>\n",
       "      <td>0</td>\n",
       "      <td>0</td>\n",
       "      <td>11</td>\n",
       "      <td>Канал 6 - Продукт 9</td>\n",
       "    </tr>\n",
       "    <tr>\n",
       "      <th>152509</th>\n",
       "      <td>2021-11-15</td>\n",
       "      <td>Канал 6</td>\n",
       "      <td>0</td>\n",
       "      <td>0</td>\n",
       "      <td>0</td>\n",
       "      <td>Продукт 9</td>\n",
       "      <td>0</td>\n",
       "      <td>0</td>\n",
       "      <td>11</td>\n",
       "      <td>Канал 6 - Продукт 9</td>\n",
       "    </tr>\n",
       "    <tr>\n",
       "      <th>152510</th>\n",
       "      <td>2021-11-25</td>\n",
       "      <td>Канал 6</td>\n",
       "      <td>0</td>\n",
       "      <td>0</td>\n",
       "      <td>0</td>\n",
       "      <td>Продукт 9</td>\n",
       "      <td>0</td>\n",
       "      <td>0</td>\n",
       "      <td>11</td>\n",
       "      <td>Канал 6 - Продукт 9</td>\n",
       "    </tr>\n",
       "  </tbody>\n",
       "</table>\n",
       "<p>152511 rows × 10 columns</p>\n",
       "</div>"
      ],
      "text/plain": [
       "        CREATE_DT  CHANNEL  CANCEL_FLG  NOTBE_FLG  AGRY_FLG PRODUCT_NM  \\\n",
       "0      2021-09-17  Канал 1           0          0         0  Продукт 1   \n",
       "1      2021-09-20  Канал 1           0          0         0  Продукт 1   \n",
       "2      2021-09-20  Канал 1           0          0         1  Продукт 1   \n",
       "3      2021-09-20  Канал 1           1          0         0  Продукт 1   \n",
       "4      2021-09-20  Канал 1           0          0         0  Продукт 1   \n",
       "...           ...      ...         ...        ...       ...        ...   \n",
       "152506 2021-11-01  Канал 6           1          0         0  Продукт 9   \n",
       "152507 2021-11-08  Канал 6           0          0         0  Продукт 9   \n",
       "152508 2021-11-15  Канал 6           0          0         0  Продукт 9   \n",
       "152509 2021-11-15  Канал 6           0          0         0  Продукт 9   \n",
       "152510 2021-11-25  Канал 6           0          0         0  Продукт 9   \n",
       "\n",
       "        AGREEMENT  APPL  MONTH      CHANNEL_PRODUCT  \n",
       "0               0     0      9  Канал 1 - Продукт 1  \n",
       "1               0     0      9  Канал 1 - Продукт 1  \n",
       "2               0     0      9  Канал 1 - Продукт 1  \n",
       "3               0     1      9  Канал 1 - Продукт 1  \n",
       "4               0     0      9  Канал 1 - Продукт 1  \n",
       "...           ...   ...    ...                  ...  \n",
       "152506          0     0     11  Канал 6 - Продукт 9  \n",
       "152507          0     0     11  Канал 6 - Продукт 9  \n",
       "152508          0     0     11  Канал 6 - Продукт 9  \n",
       "152509          0     0     11  Канал 6 - Продукт 9  \n",
       "152510          0     0     11  Канал 6 - Продукт 9  \n",
       "\n",
       "[152511 rows x 10 columns]"
      ]
     },
     "execution_count": 6,
     "metadata": {},
     "output_type": "execute_result"
    }
   ],
   "source": [
    "data"
   ]
  },
  {
   "cell_type": "markdown",
   "metadata": {},
   "source": [
    "Теперь у нас есть полные данные. Без потерь и пропусков. С корректными типами полей. \n",
    "\n",
    "Можем приступать к анализу."
   ]
  },
  {
   "cell_type": "markdown",
   "metadata": {},
   "source": [
    "### 1. Определить канал, где больше всего тех. проблем."
   ]
  },
  {
   "cell_type": "code",
   "execution_count": 7,
   "metadata": {},
   "outputs": [
    {
     "data": {
      "image/png": "[encoded data removed]",
      "text/plain": [
       "<Figure size 1500x600 with 1 Axes>"
      ]
     },
     "metadata": {},
     "output_type": "display_data"
    }
   ],
   "source": [
    "plt.figure(figsize=(15, 6))\n",
    "data.groupby('CHANNEL')['CANCEL_FLG'].sum().plot(kind='barh')\n",
    "plt.title('График числа проблем по каналам')\n",
    "plt.xlabel('Количество проблем')\n",
    "plt.ylabel('Канал')\n",
    "plt.show()"
   ]
  },
  {
   "cell_type": "markdown",
   "metadata": {},
   "source": [
    "ВЫВОД: Как мы можем видеть на графике больше всего технических проблем с каналом номер 5."
   ]
  },
  {
   "cell_type": "markdown",
   "metadata": {},
   "source": [
    "### 2. Определить месяц с большей долей тех. проблем."
   ]
  },
  {
   "cell_type": "code",
   "execution_count": 8,
   "metadata": {},
   "outputs": [
    {
     "data": {
      "image/png": "[encoded data removed]",
      "text/plain": [
       "<Figure size 1000x400 with 1 Axes>"
      ]
     },
     "metadata": {},
     "output_type": "display_data"
    }
   ],
   "source": [
    "plt.figure(figsize=(10, 4))\n",
    "round(data.groupby('MONTH')['CANCEL_FLG'].sum()/data.groupby('MONTH')['CANCEL_FLG'].sum().sum()*100, 2).plot(kind='bar')\n",
    "plt.title('Доля проблем по месяцам, % от общего числа')\n",
    "plt.xlabel('Месяц')\n",
    "plt.show()"
   ]
  },
  {
   "cell_type": "markdown",
   "metadata": {},
   "source": [
    "ВЫВОД: Больше всего доля технических проблем в ноябре (11-й месяц)"
   ]
  },
  {
   "cell_type": "markdown",
   "metadata": {},
   "source": [
    "### 3. Определить продукт, коммуникации по которому меньше всего доходят до клиента (клиент ее не видит) и это не связано с тех. проблемами"
   ]
  },
  {
   "cell_type": "code",
   "execution_count": 9,
   "metadata": {},
   "outputs": [
    {
     "data": {
      "image/png": "[encoded data removed]",
      "text/plain": [
       "<Figure size 1000x600 with 1 Axes>"
      ]
     },
     "metadata": {},
     "output_type": "display_data"
    }
   ],
   "source": [
    "plt.figure(figsize=(10, 6))\n",
    "data.query(\"CANCEL_FLG == 0\").groupby('PRODUCT_NM')['NOTBE_FLG'].sum().sort_values(ascending=True).plot(kind='barh')\n",
    "plt.title('Клиент не видит коммуникацию по продуктам')\n",
    "plt.xlabel('Количество')\n",
    "plt.ylabel('')\n",
    "plt.show()"
   ]
  },
  {
   "cell_type": "markdown",
   "metadata": {},
   "source": [
    "ВЫВОД: По продукту №14 коммуникации меньше всего доходят до клиентов (они их не видят). При этом это не связано с техническими проблемами."
   ]
  },
  {
   "cell_type": "markdown",
   "metadata": {},
   "source": [
    "### 4. Определить продукт, к которому клиенты не проявляют интереса"
   ]
  },
  {
   "cell_type": "markdown",
   "metadata": {},
   "source": [
    "Будем считать, что непроявление интереса это когда коммуникация с клиентом прошла, но клиент не отреагировал (например, не перешел по ссылке). Такие коммуникации имеют в поле **AGRY_FLG** значение **0**. При этом мы помним, что возможны случаи, когда клиент самостоятельно может оформить продукт, независимо от статуса коммуникации. Значит такие коммуникации, по которым есть подписание договора или заявки, тоже стоит исключить."
   ]
  },
  {
   "cell_type": "code",
   "execution_count": 10,
   "metadata": {},
   "outputs": [
    {
     "data": {
      "text/plain": [
       "PRODUCT_NM\n",
       "Продукт 14    31557\n",
       "Продукт 8     20938\n",
       "Продукт 6     17583\n",
       "Продукт 4     12599\n",
       "Продукт 20     4026\n",
       "Продукт 1      3201\n",
       "Продукт 2      2137\n",
       "Продукт 12     1822\n",
       "Продукт 9       262\n",
       "Продукт 15      254\n",
       "Продукт 3        17\n",
       "Name: AGRY_FLG, dtype: int64"
      ]
     },
     "execution_count": 10,
     "metadata": {},
     "output_type": "execute_result"
    }
   ],
   "source": [
    "data.query('AGRY_FLG == 0 & AGREEMENT == 0 & APPL == 0').groupby('PRODUCT_NM')['AGRY_FLG'].count().sort_values(ascending=False)"
   ]
  },
  {
   "cell_type": "markdown",
   "metadata": {},
   "source": [
    "К продукту №14 клиенты проявляют меньше всего интереса. Возможно всё дело в том, что по нему коммуникации меньше всего доходят до клиентов. Мы можем это проверить добавив в отбор условие, чтобы клиент увидел коммуникацию **NOTBE_FLG = 0**."
   ]
  },
  {
   "cell_type": "code",
   "execution_count": 11,
   "metadata": {},
   "outputs": [
    {
     "data": {
      "text/plain": [
       "PRODUCT_NM\n",
       "Продукт 14    23737\n",
       "Продукт 8     16607\n",
       "Продукт 6     12329\n",
       "Продукт 4      6970\n",
       "Продукт 20     2745\n",
       "Продукт 1      2714\n",
       "Продукт 12     1662\n",
       "Продукт 2      1243\n",
       "Продукт 15      135\n",
       "Продукт 9        96\n",
       "Продукт 3        13\n",
       "Name: AGRY_FLG, dtype: int64"
      ]
     },
     "execution_count": 11,
     "metadata": {},
     "output_type": "execute_result"
    }
   ],
   "source": [
    "data.query('AGRY_FLG == 0 & AGREEMENT == 0 & APPL == 0 & NOTBE_FLG == 0') \\\n",
    "    .groupby('PRODUCT_NM')['AGRY_FLG'].count().sort_values(ascending=False)"
   ]
  },
  {
   "cell_type": "markdown",
   "metadata": {},
   "source": [
    "ВЫВОД: К продукту №14 клиенты действительно проявляют меньше всего интереса. При этом вне зависимости видел ли клиент коммуникацию или нет."
   ]
  },
  {
   "cell_type": "markdown",
   "metadata": {},
   "source": [
    "### 5. Определить связку канал-продукт, по которой было больше всего коммуникаций за месяц"
   ]
  },
  {
   "cell_type": "code",
   "execution_count": 12,
   "metadata": {},
   "outputs": [
    {
     "data": {
      "text/plain": [
       "MONTH  CHANNEL_PRODUCT     \n",
       "9      Канал 5 - Продукт 14    4043\n",
       "Name: CHANNEL_PRODUCT, dtype: int64"
      ]
     },
     "execution_count": 12,
     "metadata": {},
     "output_type": "execute_result"
    }
   ],
   "source": [
    "data.query('MONTH == 9').groupby(['MONTH', 'CHANNEL_PRODUCT'])['CHANNEL_PRODUCT'].count().sort_values(ascending=False).head(1)"
   ]
  },
  {
   "cell_type": "code",
   "execution_count": 13,
   "metadata": {},
   "outputs": [
    {
     "data": {
      "text/plain": [
       "MONTH  CHANNEL_PRODUCT     \n",
       "10     Канал 5 - Продукт 14    11877\n",
       "Name: CHANNEL_PRODUCT, dtype: int64"
      ]
     },
     "execution_count": 13,
     "metadata": {},
     "output_type": "execute_result"
    }
   ],
   "source": [
    "data.query('MONTH == 10').groupby(['MONTH', 'CHANNEL_PRODUCT'])['CHANNEL_PRODUCT'].count().sort_values(ascending=False).head(1)"
   ]
  },
  {
   "cell_type": "code",
   "execution_count": 14,
   "metadata": {},
   "outputs": [
    {
     "data": {
      "text/plain": [
       "MONTH  CHANNEL_PRODUCT     \n",
       "11     Канал 5 - Продукт 14    19494\n",
       "Name: CHANNEL_PRODUCT, dtype: int64"
      ]
     },
     "execution_count": 14,
     "metadata": {},
     "output_type": "execute_result"
    }
   ],
   "source": [
    "data.query('MONTH == 11').groupby(['MONTH', 'CHANNEL_PRODUCT'])['CHANNEL_PRODUCT'].count().sort_values(ascending=False).head(1)"
   ]
  },
  {
   "cell_type": "markdown",
   "metadata": {},
   "source": [
    "ВЫВОД: Больше всего коммуникаций в сентябре, октябре и ноябре было в связке: *Канал 5 - Продукт 14*"
   ]
  },
  {
   "cell_type": "markdown",
   "metadata": {},
   "source": [
    "### 6. Определить канал, от которого больше всего эффект (доля продаж через коммуникации выше чем доля самостоятельных «покупок» клиента не связанных с коммуникацией)."
   ]
  },
  {
   "cell_type": "code",
   "execution_count": 15,
   "metadata": {},
   "outputs": [],
   "source": [
    "# найдем доли каналов в продажах, когда коммуникация была успешной\n",
    "\n",
    "df1 = round(data.query('AGRY_FLG == 1 and (AGREEMENT == 1 or APPL == 1)') \\\n",
    "        .groupby('CHANNEL')['CHANNEL'].count() / data.query('AGRY_FLG == 1 and (AGREEMENT == 1 or APPL == 1)') \\\n",
    "        .groupby('CHANNEL')['CHANNEL'].count().sum() * 100, 2)"
   ]
  },
  {
   "cell_type": "code",
   "execution_count": 16,
   "metadata": {},
   "outputs": [
    {
     "data": {
      "text/plain": [
       "CHANNEL\n",
       "Канал 1    52.06\n",
       "Канал 2     0.04\n",
       "Канал 3    16.48\n",
       "Канал 5    30.79\n",
       "Канал 6     0.63\n",
       "Name: CHANNEL, dtype: float64"
      ]
     },
     "execution_count": 16,
     "metadata": {},
     "output_type": "execute_result"
    }
   ],
   "source": [
    "df1"
   ]
  },
  {
   "cell_type": "code",
   "execution_count": 17,
   "metadata": {},
   "outputs": [],
   "source": [
    "# найдем доли каналов в продажах, когда коммуникация не была признана успешной, но \"покупка\" состоялась\n",
    "\n",
    "df2 = round(data.query('AGRY_FLG == 0 and (AGREEMENT == 1 or APPL == 1)') \\\n",
    "        .groupby('CHANNEL')['CHANNEL'].count() /data.query('AGRY_FLG == 1 and (AGREEMENT == 1 or APPL == 1)') \\\n",
    "        .groupby('CHANNEL')['CHANNEL'].count().sum() * 100, 2)"
   ]
  },
  {
   "cell_type": "code",
   "execution_count": 18,
   "metadata": {},
   "outputs": [
    {
     "data": {
      "text/plain": [
       "CHANNEL\n",
       "Канал 1    23.58\n",
       "Канал 2     0.21\n",
       "Канал 3    27.75\n",
       "Канал 5    45.97\n",
       "Канал 6     4.36\n",
       "Name: CHANNEL, dtype: float64"
      ]
     },
     "execution_count": 18,
     "metadata": {},
     "output_type": "execute_result"
    }
   ],
   "source": [
    "df2"
   ]
  },
  {
   "cell_type": "code",
   "execution_count": 19,
   "metadata": {},
   "outputs": [
    {
     "data": {
      "text/plain": [
       "CHANNEL\n",
       "Канал 1    28.48\n",
       "Канал 2    -0.17\n",
       "Канал 3   -11.27\n",
       "Канал 5   -15.18\n",
       "Канал 6    -3.73\n",
       "Name: CHANNEL, dtype: float64"
      ]
     },
     "execution_count": 19,
     "metadata": {},
     "output_type": "execute_result"
    }
   ],
   "source": [
    "# посмотрим на разницу процентов. Вычтем из долей, когда коммуникация была успешной доли, когда коммуникация была не успешна\n",
    "# у кого будет больше положительная разность, у того канала больше всего эффект\n",
    "\n",
    "df1-df2"
   ]
  },
  {
   "cell_type": "markdown",
   "metadata": {},
   "source": [
    "ВЫВОД: Самым эффективным каналом является **Канал 1**. Доля продаж через коммуникации выше, чем без них."
   ]
  }
 ],
 "metadata": {
  "kernelspec": {
   "display_name": "base",
   "language": "python",
   "name": "python3"
  },
  "language_info": {
   "codemirror_mode": {
    "name": "ipython",
    "version": 3
   },
   "file_extension": ".py",
   "mimetype": "text/x-python",
   "name": "python",
   "nbconvert_exporter": "python",
   "pygments_lexer": "ipython3",
   "version": "3.12.7"
  }
 },
 "nbformat": 4,
 "nbformat_minor": 2
}
