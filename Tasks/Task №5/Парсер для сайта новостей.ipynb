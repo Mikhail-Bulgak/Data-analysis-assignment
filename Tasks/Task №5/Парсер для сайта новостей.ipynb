{
 "cells": [
  {
   "cell_type": "code",
   "execution_count": 1,
   "metadata": {},
   "outputs": [],
   "source": [
    "import requests\n",
    "from bs4 import BeautifulSoup\n",
    "import pandas as pd\n",
    "from datetime import date\n",
    "from datetime import datetime"
   ]
  },
  {
   "cell_type": "code",
   "execution_count": 2,
   "metadata": {},
   "outputs": [],
   "source": [
    "# URL страницы с новостями\n",
    "\n",
    "url = 'https://lenta.ru/parts/news/'"
   ]
  },
  {
   "cell_type": "code",
   "execution_count": 3,
   "metadata": {},
   "outputs": [],
   "source": [
    "response = requests.get(url)\n",
    "soup = BeautifulSoup(response.content, 'html.parser')\n",
    "news_items = soup.find_all('a', class_='card-full-news _parts-news')"
   ]
  },
  {
   "cell_type": "code",
   "execution_count": 4,
   "metadata": {},
   "outputs": [],
   "source": [
    "news_data = []\n",
    "for item in news_items:\n",
    "    # Извлекаем заголовок и дату\n",
    "    title = item.find('h3').get_text(strip=True)\n",
    "    date_as_str = item.find('time').get_text(strip=True)\n",
    "    # Добавляем данные в список\n",
    "    news_data.append({\"Title\": title, \"Date\": date_as_str})"
   ]
  },
  {
   "cell_type": "code",
   "execution_count": 5,
   "metadata": {},
   "outputs": [],
   "source": [
    "# Создаем DataFrame из полученных данных\n",
    "\n",
    "df = pd.DataFrame(news_data)"
   ]
  },
  {
   "cell_type": "code",
   "execution_count": 6,
   "metadata": {},
   "outputs": [
    {
     "name": "stdout",
     "output_type": "stream",
     "text": [
      "Данные успешно сохранены в файл: 2025_03_29_news_lenta.xlsx\n"
     ]
    }
   ],
   "source": [
    "# Сохраняем DataFrame в Excel файл\n",
    "today_to_str = date.today().strftime('%Y_%m_%d')\n",
    "output_file = today_to_str + '_news_lenta.xlsx'\n",
    "df.to_excel(output_file, index=False)\n",
    "\n",
    "print(f\"Данные успешно сохранены в файл: {output_file}\")"
   ]
  }
 ],
 "metadata": {
  "kernelspec": {
   "display_name": "base",
   "language": "python",
   "name": "python3"
  },
  "language_info": {
   "codemirror_mode": {
    "name": "ipython",
    "version": 3
   },
   "file_extension": ".py",
   "mimetype": "text/x-python",
   "name": "python",
   "nbconvert_exporter": "python",
   "pygments_lexer": "ipython3",
   "version": "3.12.7"
  }
 },
 "nbformat": 4,
 "nbformat_minor": 2
}
