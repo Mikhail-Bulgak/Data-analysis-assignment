{
 "cells": [
  {
   "cell_type": "code",
   "execution_count": 1,
   "metadata": {},
   "outputs": [],
   "source": [
    "# импортируем библиотеки\n",
    "\n",
    "import pandas as pd\n",
    "import numpy as np"
   ]
  },
  {
   "cell_type": "code",
   "execution_count": null,
   "metadata": {},
   "outputs": [],
   "source": [
    "# загружаем данные из excel\n",
    "\n",
    "data_1 = pd.read_excel(r'C:\\Users\\OneDrive\\Рабочий стол\\Задание\\Список ИНН.xlsx')\n",
    "data_2 = pd.read_excel(r'C:\\Users\\OneDrive\\Рабочий стол\\Задание\\Список КМ.xlsx')"
   ]
  },
  {
   "cell_type": "code",
   "execution_count": 3,
   "metadata": {},
   "outputs": [
    {
     "name": "stdout",
     "output_type": "stream",
     "text": [
      "        ИНН    Холдинг Сотрудничество Головное отделение  Потенциальный доход\n",
      "0  14361977        NaN         Клиент                ГО1              5702680\n",
      "1   1454444        NaN         Клиент                ГО2              4129018\n",
      "2  14689141  Холдинг_1      Не клиент                ГО1              9645470\n",
      "3  14709947        NaN      Не клиент                ГО2              4375217\n",
      "4  14767489        NaN      Не клиент                ГО3              7749114\n",
      "----------------------------\n",
      "<class 'pandas.core.frame.DataFrame'>\n",
      "RangeIndex: 1000 entries, 0 to 999\n",
      "Data columns (total 5 columns):\n",
      " #   Column               Non-Null Count  Dtype \n",
      "---  ------               --------------  ----- \n",
      " 0   ИНН                  1000 non-null   int64 \n",
      " 1   Холдинг              382 non-null    object\n",
      " 2   Сотрудничество       1000 non-null   object\n",
      " 3   Головное отделение   1000 non-null   object\n",
      " 4   Потенциальный доход  1000 non-null   int64 \n",
      "dtypes: int64(2), object(3)\n",
      "memory usage: 39.2+ KB\n",
      "None\n",
      "----------------------------\n",
      "                            ФИО Головное отделение\n",
      "0    Пушкин Александр Сергеевич                ГО1\n",
      "1     Гоголь Николай Васильевич                ГО3\n",
      "2  Достоевский Федор Михайлович                ГО2\n",
      "3        Толстой Лев Николаевич                ГО1\n",
      "4          Чехов Антон Павлович                ГО3\n",
      "----------------------------\n",
      "<class 'pandas.core.frame.DataFrame'>\n",
      "RangeIndex: 5 entries, 0 to 4\n",
      "Data columns (total 2 columns):\n",
      " #   Column              Non-Null Count  Dtype \n",
      "---  ------              --------------  ----- \n",
      " 0   ФИО                 5 non-null      object\n",
      " 1   Головное отделение  5 non-null      object\n",
      "dtypes: object(2)\n",
      "memory usage: 212.0+ bytes\n",
      "None\n",
      "----------------------------\n"
     ]
    }
   ],
   "source": [
    "# посмотрим как загрузились данные\n",
    "\n",
    "for i in [data_1, data_2]:\n",
    "    print(i.head())\n",
    "    print('----------------------------')\n",
    "    print(i.info())\n",
    "    print('----------------------------')"
   ]
  },
  {
   "cell_type": "code",
   "execution_count": 4,
   "metadata": {},
   "outputs": [],
   "source": [
    "# по условию \"если ИНН не входит в холдинг, то считается уникальным ID\"\n",
    "# заменим все NaN в столбце холдинг на \"Уникальный_ID\"\n",
    "\n",
    "data_1['Холдинг'] = data_1['Холдинг'].fillna(\"Уникальный_ID\")"
   ]
  },
  {
   "cell_type": "code",
   "execution_count": 5,
   "metadata": {},
   "outputs": [
    {
     "name": "stdout",
     "output_type": "stream",
     "text": [
      "<class 'pandas.core.frame.DataFrame'>\n",
      "RangeIndex: 1000 entries, 0 to 999\n",
      "Data columns (total 5 columns):\n",
      " #   Column               Non-Null Count  Dtype \n",
      "---  ------               --------------  ----- \n",
      " 0   ИНН                  1000 non-null   int64 \n",
      " 1   Холдинг              1000 non-null   object\n",
      " 2   Сотрудничество       1000 non-null   object\n",
      " 3   Головное отделение   1000 non-null   object\n",
      " 4   Потенциальный доход  1000 non-null   int64 \n",
      "dtypes: int64(2), object(3)\n",
      "memory usage: 39.2+ KB\n"
     ]
    }
   ],
   "source": [
    "data_1.info()"
   ]
  },
  {
   "cell_type": "code",
   "execution_count": 6,
   "metadata": {},
   "outputs": [
    {
     "data": {
      "text/html": [
       "<div>\n",
       "<style scoped>\n",
       "    .dataframe tbody tr th:only-of-type {\n",
       "        vertical-align: middle;\n",
       "    }\n",
       "\n",
       "    .dataframe tbody tr th {\n",
       "        vertical-align: top;\n",
       "    }\n",
       "\n",
       "    .dataframe thead th {\n",
       "        text-align: right;\n",
       "    }\n",
       "</style>\n",
       "<table border=\"1\" class=\"dataframe\">\n",
       "  <thead>\n",
       "    <tr style=\"text-align: right;\">\n",
       "      <th></th>\n",
       "      <th>ИНН</th>\n",
       "      <th>Холдинг</th>\n",
       "      <th>Сотрудничество</th>\n",
       "      <th>Головное отделение</th>\n",
       "      <th>Потенциальный доход</th>\n",
       "    </tr>\n",
       "  </thead>\n",
       "  <tbody>\n",
       "    <tr>\n",
       "      <th>0</th>\n",
       "      <td>14361977</td>\n",
       "      <td>Уникальный_ID</td>\n",
       "      <td>Клиент</td>\n",
       "      <td>ГО1</td>\n",
       "      <td>5702680</td>\n",
       "    </tr>\n",
       "    <tr>\n",
       "      <th>1</th>\n",
       "      <td>1454444</td>\n",
       "      <td>Уникальный_ID</td>\n",
       "      <td>Клиент</td>\n",
       "      <td>ГО2</td>\n",
       "      <td>4129018</td>\n",
       "    </tr>\n",
       "    <tr>\n",
       "      <th>2</th>\n",
       "      <td>14689141</td>\n",
       "      <td>Холдинг_1</td>\n",
       "      <td>Не клиент</td>\n",
       "      <td>ГО1</td>\n",
       "      <td>9645470</td>\n",
       "    </tr>\n",
       "    <tr>\n",
       "      <th>3</th>\n",
       "      <td>14709947</td>\n",
       "      <td>Уникальный_ID</td>\n",
       "      <td>Не клиент</td>\n",
       "      <td>ГО2</td>\n",
       "      <td>4375217</td>\n",
       "    </tr>\n",
       "    <tr>\n",
       "      <th>4</th>\n",
       "      <td>14767489</td>\n",
       "      <td>Уникальный_ID</td>\n",
       "      <td>Не клиент</td>\n",
       "      <td>ГО3</td>\n",
       "      <td>7749114</td>\n",
       "    </tr>\n",
       "  </tbody>\n",
       "</table>\n",
       "</div>"
      ],
      "text/plain": [
       "        ИНН        Холдинг Сотрудничество Головное отделение  \\\n",
       "0  14361977  Уникальный_ID         Клиент                ГО1   \n",
       "1   1454444  Уникальный_ID         Клиент                ГО2   \n",
       "2  14689141      Холдинг_1      Не клиент                ГО1   \n",
       "3  14709947  Уникальный_ID      Не клиент                ГО2   \n",
       "4  14767489  Уникальный_ID      Не клиент                ГО3   \n",
       "\n",
       "   Потенциальный доход  \n",
       "0              5702680  \n",
       "1              4129018  \n",
       "2              9645470  \n",
       "3              4375217  \n",
       "4              7749114  "
      ]
     },
     "execution_count": 6,
     "metadata": {},
     "output_type": "execute_result"
    }
   ],
   "source": [
    "data_1.head()"
   ]
  },
  {
   "cell_type": "code",
   "execution_count": 7,
   "metadata": {},
   "outputs": [
    {
     "data": {
      "text/html": [
       "<div>\n",
       "<style scoped>\n",
       "    .dataframe tbody tr th:only-of-type {\n",
       "        vertical-align: middle;\n",
       "    }\n",
       "\n",
       "    .dataframe tbody tr th {\n",
       "        vertical-align: top;\n",
       "    }\n",
       "\n",
       "    .dataframe thead th {\n",
       "        text-align: right;\n",
       "    }\n",
       "</style>\n",
       "<table border=\"1\" class=\"dataframe\">\n",
       "  <thead>\n",
       "    <tr style=\"text-align: right;\">\n",
       "      <th></th>\n",
       "      <th>ФИО</th>\n",
       "      <th>Головное отделение</th>\n",
       "    </tr>\n",
       "  </thead>\n",
       "  <tbody>\n",
       "    <tr>\n",
       "      <th>0</th>\n",
       "      <td>Пушкин Александр Сергеевич</td>\n",
       "      <td>ГО1</td>\n",
       "    </tr>\n",
       "    <tr>\n",
       "      <th>1</th>\n",
       "      <td>Гоголь Николай Васильевич</td>\n",
       "      <td>ГО3</td>\n",
       "    </tr>\n",
       "    <tr>\n",
       "      <th>2</th>\n",
       "      <td>Достоевский Федор Михайлович</td>\n",
       "      <td>ГО2</td>\n",
       "    </tr>\n",
       "    <tr>\n",
       "      <th>3</th>\n",
       "      <td>Толстой Лев Николаевич</td>\n",
       "      <td>ГО1</td>\n",
       "    </tr>\n",
       "    <tr>\n",
       "      <th>4</th>\n",
       "      <td>Чехов Антон Павлович</td>\n",
       "      <td>ГО3</td>\n",
       "    </tr>\n",
       "  </tbody>\n",
       "</table>\n",
       "</div>"
      ],
      "text/plain": [
       "                            ФИО Головное отделение\n",
       "0    Пушкин Александр Сергеевич                ГО1\n",
       "1     Гоголь Николай Васильевич                ГО3\n",
       "2  Достоевский Федор Михайлович                ГО2\n",
       "3        Толстой Лев Николаевич                ГО1\n",
       "4          Чехов Антон Павлович                ГО3"
      ]
     },
     "execution_count": 7,
     "metadata": {},
     "output_type": "execute_result"
    }
   ],
   "source": [
    "data_2.head()"
   ]
  },
  {
   "cell_type": "markdown",
   "metadata": {},
   "source": [
    "В итоге у нас есть чистый датасет. Пропусков нет. Типы полей корректные. Можно приступать к анализу."
   ]
  },
  {
   "cell_type": "markdown",
   "metadata": {},
   "source": [
    "Необходимо сформировать пакет для каждого КМ с учетом следующих критериев:\n",
    "\n",
    "*\tКол-во уникальных ID в пакете не более 150.\n",
    "*\tДоля не клиентов в пакете не более 35%\n",
    "*\tПакет должен содержать ИНН только из данного головного отделения где присутствует КМ.\n",
    "*\tПакет должен быть сбалансированным по потенциалу у каждого КМ."
   ]
  },
  {
   "cell_type": "markdown",
   "metadata": {},
   "source": [
    "Проверим для начала выполнимы ли условия."
   ]
  },
  {
   "cell_type": "code",
   "execution_count": 8,
   "metadata": {},
   "outputs": [
    {
     "data": {
      "text/plain": [
       "Головное отделение\n",
       "ГО1    1502093205\n",
       "ГО2    1708283991\n",
       "ГО3    1675455030\n",
       "Name: Потенциальный доход, dtype: int64"
      ]
     },
     "execution_count": 8,
     "metadata": {},
     "output_type": "execute_result"
    }
   ],
   "source": [
    "# найдем сумму потенциального дохода по отделениям\n",
    "\n",
    "data_1.groupby('Головное отделение')['Потенциальный доход'].sum()"
   ]
  },
  {
   "cell_type": "code",
   "execution_count": 9,
   "metadata": {},
   "outputs": [
    {
     "data": {
      "text/plain": [
       "Головное отделение\n",
       "ГО2    344\n",
       "ГО3    341\n",
       "ГО1    315\n",
       "Name: count, dtype: int64"
      ]
     },
     "execution_count": 9,
     "metadata": {},
     "output_type": "execute_result"
    }
   ],
   "source": [
    "# найдем общее число отделений в датасете\n",
    "\n",
    "data_1['Головное отделение'].value_counts()"
   ]
  },
  {
   "cell_type": "code",
   "execution_count": 10,
   "metadata": {},
   "outputs": [
    {
     "data": {
      "text/plain": [
       "Головное отделение\n",
       "ГО1    173\n",
       "ГО2    302\n",
       "ГО3    143\n",
       "Name: Холдинг, dtype: int64"
      ]
     },
     "execution_count": 10,
     "metadata": {},
     "output_type": "execute_result"
    }
   ],
   "source": [
    "# посмотрим на распределение уникальных ID по отделениям\n",
    "\n",
    "data_1.query(\"Холдинг == 'Уникальный_ID'\").groupby('Головное отделение')['Холдинг'].count()"
   ]
  },
  {
   "cell_type": "code",
   "execution_count": 11,
   "metadata": {},
   "outputs": [
    {
     "data": {
      "text/plain": [
       "Головное отделение\n",
       "ГО1    0.526984\n",
       "ГО2    0.526163\n",
       "ГО3    0.480938\n",
       "Name: Сотрудничество, dtype: float64"
      ]
     },
     "execution_count": 11,
     "metadata": {},
     "output_type": "execute_result"
    }
   ],
   "source": [
    "# найдем долю не клиентов по отделениям\n",
    "\n",
    "data_1[data_1['Сотрудничество'] == 'Не клиент'].\\\n",
    "    groupby('Головное отделение')['Сотрудничество'].count() / data_1.\\\n",
    "    groupby('Головное отделение')['Сотрудничество'].count()"
   ]
  },
  {
   "cell_type": "markdown",
   "metadata": {},
   "source": [
    "Итак. У нас есть 5-ть менеджеров. Два работают в ГО1, один работает в ГО2 и ещё два работают в ГО3.\n",
    "Т.о.\n",
    "\n",
    "* \"Количество уникальных ID в пакете не более 150\"  -  это скорее относится к сотруднику в ГО2. Т.к. в других отделениях, при равномерном делении, их число итак не превысит отметку в 150.\n",
    "\n",
    "* Доля не клиентов в пакете не более 35%  -  это уже можно отнести ко всем ГО. Но условие невыполнимо при равномерном распределении для всех. Т.к. общая доля превышает допустимое значение. Единственный вариант соблюсти условие сократить число ИНН в пакете т.о., чтобы было больше клиентов, чем не клиентов.\n",
    "\n",
    "* Пакет должен быть только из ИНН, где работает агент   -  это условие выполнимо. Данных достаточно.\n",
    "\n",
    "* Пакет должен быть сбалансированным по потенциальному доходу для каждого  -  Здесь больше всего выделяется ГО2, т.к. суммарное значение больше всех, а работает всего один КМ. И при равномерном распределении всех точек выполнить данное условие невозможно."
   ]
  },
  {
   "cell_type": "markdown",
   "metadata": {},
   "source": [
    "\n",
    "Учитывая выше изложенное, а также то, что нам не был задан объём пакета, который должен быть у каждого сотрудника. Можно предложить следующий вариант решения задачи:\n",
    "\n",
    "1. Разбить датасет на несколько по значению головного отделения\n",
    "\n",
    "2. Отсортировать датасеты по \"клиент/не клиент\" и по убыванию потенциального дохода\n",
    "\n",
    "3. Убрать строки из датасетов с \"дешевыми не клиентами\" и тем самым уменьшить их наличие до необходимого уровня в 0.35\n",
    "\n",
    "4. Провести разбивку датасетов на \"пакеты\" и проверить их соответствие параметрам задачи\n",
    "\n",
    "5. Собрать \"пакеты\" в единый датафрейм, провести сравнительный анализ\n",
    "\n",
    "Поскольку у нас нет условий по величине (количеству ИНН) пакетов и точно не определено понятие \"сбалансированного пакета\", мы обусловим, что количество ИНН в пакете может быть каким угодно. \n",
    "\n",
    "А сбалансированными пакеты будут считаться, если величина отношения пакета с минимальным значением и пакета с максимальным значением будет менее 1%."
   ]
  },
  {
   "cell_type": "code",
   "execution_count": 12,
   "metadata": {},
   "outputs": [],
   "source": [
    "# сформируем по каждому ГО свой датасет. И отсортируем по клиент/не клиент и потенциальному доходу\n",
    "\n",
    "df1 = data_1[data_1['Головное отделение'] == 'ГО1'].sort_values(by=['Сотрудничество', 'Потенциальный доход'], ascending=[True, False])\n",
    "df2 = data_1[data_1['Головное отделение'] == 'ГО2'].sort_values(by=['Сотрудничество', 'Потенциальный доход'], ascending=[True, False])\n",
    "df3 = data_1[data_1['Головное отделение'] == 'ГО3'].sort_values(by=['Сотрудничество', 'Потенциальный доход'], ascending=[True, False])"
   ]
  },
  {
   "cell_type": "code",
   "execution_count": 13,
   "metadata": {},
   "outputs": [],
   "source": [
    "# создадим функцию для проверки параметров задачи\n",
    "\n",
    "def chek_df (data):\n",
    "    print('Доля не клиентов:', data[data['Сотрудничество'] == 'Не клиент'].\\\n",
    "    groupby('Головное отделение')['Сотрудничество'].count() / data.\\\n",
    "    groupby('Головное отделение')['Сотрудничество'].count())\n",
    "    print('--------------------------------------')\n",
    "    print('Количество уникальных id:', data.query(\"Холдинг == 'Уникальный_ID'\").groupby('Головное отделение')['Холдинг'].count())\n",
    "    print('--------------------------------------')\n",
    "    print('Суммарный потенциальный доход:', data['Потенциальный доход'].sum())\n",
    "    print('--------------------------------------')"
   ]
  },
  {
   "cell_type": "code",
   "execution_count": 14,
   "metadata": {},
   "outputs": [],
   "source": [
    "# удалим строчки из числа не клиентов с минимальным доходом\n",
    "\n",
    "df1 = df1.iloc[:-86]\n",
    "df2 = df2.iloc[:-94]\n",
    "df3 = df3.iloc[:-70]"
   ]
  },
  {
   "cell_type": "code",
   "execution_count": 15,
   "metadata": {},
   "outputs": [
    {
     "name": "stdout",
     "output_type": "stream",
     "text": [
      "Доля не клиентов: Головное отделение\n",
      "ГО1    0.349345\n",
      "Name: Сотрудничество, dtype: float64\n",
      "--------------------------------------\n",
      "Количество уникальных id: Головное отделение\n",
      "ГО1    125\n",
      "Name: Холдинг, dtype: int64\n",
      "--------------------------------------\n",
      "Суммарный потенциальный доход: 1298717462\n",
      "--------------------------------------\n",
      "Доля не клиентов: Головное отделение\n",
      "ГО2    0.348\n",
      "Name: Сотрудничество, dtype: float64\n",
      "--------------------------------------\n",
      "Количество уникальных id: Головное отделение\n",
      "ГО2    222\n",
      "Name: Холдинг, dtype: int64\n",
      "--------------------------------------\n",
      "Суммарный потенциальный доход: 1443784863\n",
      "--------------------------------------\n",
      "Доля не клиентов: Головное отделение\n",
      "ГО3    0.346863\n",
      "Name: Сотрудничество, dtype: float64\n",
      "--------------------------------------\n",
      "Количество уникальных id: Головное отделение\n",
      "ГО3    114\n",
      "Name: Холдинг, dtype: int64\n",
      "--------------------------------------\n",
      "Суммарный потенциальный доход: 1514447936\n",
      "--------------------------------------\n"
     ]
    }
   ],
   "source": [
    "# проверим что доля не клиентов не превышает 0.35\n",
    "\n",
    "for i in [df1, df2, df3]:\n",
    "    chek_df(i)"
   ]
  },
  {
   "cell_type": "code",
   "execution_count": 16,
   "metadata": {},
   "outputs": [],
   "source": [
    "# создадим счетчики и переменные с лимитами. \n",
    "# т.к. в ГО1 меньше всего записей и сумма потенциального дохода не превышает 1_300_000_000\n",
    "# тогда установим лимит по уровню дохода на одного сотрудника в размере 650_000_000\n",
    "\n",
    "uniq_id = 150\n",
    "level_income = 650_000_000\n",
    "emp_go1_1 = []\n",
    "emp_go1_2 = []\n",
    "emp_go2 = []\n",
    "emp_go3_1 = []\n",
    "emp_go3_2 = []\n",
    "sum_income_emp_go1_1 = 0\n",
    "sum_income_emp_go1_2 = 0\n",
    "sum_income_emp_go2 = 0\n",
    "sum_income_emp_go3_1 = 0\n",
    "sum_income_emp_go3_2 = 0\n",
    "count_uniq_id_emp_go1_1 = 0\n",
    "count_uniq_id_emp_go1_2 = 0\n",
    "count_uniq_id_emp_go2 = 0\n",
    "count_uniq_id_emp_go3_1 = 0\n",
    "count_uniq_id_emp_go3_2 = 0"
   ]
  },
  {
   "cell_type": "code",
   "execution_count": 17,
   "metadata": {},
   "outputs": [],
   "source": [
    "# распределим ИНН между сотрудниками в ГО1\n",
    "\n",
    "for index, record in df1.iterrows():\n",
    "    if count_uniq_id_emp_go1_1 < uniq_id and sum_income_emp_go1_1 < sum_income_emp_go1_2:\n",
    "        emp_go1_1.append(record)\n",
    "        count_uniq_id_emp_go1_1 += 1 if record['Холдинг'] == 'Уникальный_ID' else 0\n",
    "        sum_income_emp_go1_1 += record['Потенциальный доход']\n",
    "    elif count_uniq_id_emp_go1_2 < uniq_id:\n",
    "        emp_go1_2.append(record)\n",
    "        count_uniq_id_emp_go1_2 += 1 if record['Холдинг'] == 'Уникальный_ID' else 0\n",
    "        sum_income_emp_go1_2 += record['Потенциальный доход']\n",
    "    else:\n",
    "        continue"
   ]
  },
  {
   "cell_type": "code",
   "execution_count": 18,
   "metadata": {},
   "outputs": [],
   "source": [
    "# распределим ИНН между сотрудниками в ГО3\n",
    "\n",
    "for index, record in df3.iterrows():\n",
    "    if count_uniq_id_emp_go3_1 < uniq_id and sum_income_emp_go3_1 < sum_income_emp_go3_2 and sum_income_emp_go3_1 <= level_income:\n",
    "        emp_go3_1.append(record)\n",
    "        count_uniq_id_emp_go3_1 += 1 if record['Холдинг'] == 'Уникальный_ID' else 0\n",
    "        sum_income_emp_go3_1 += record['Потенциальный доход']\n",
    "    elif count_uniq_id_emp_go3_2 < uniq_id and sum_income_emp_go3_2 <= level_income:\n",
    "        emp_go3_2.append(record)\n",
    "        count_uniq_id_emp_go3_2 += 1 if record['Холдинг'] == 'Уникальный_ID' else 0\n",
    "        sum_income_emp_go3_2 += record['Потенциальный доход']\n",
    "    else:\n",
    "        continue"
   ]
  },
  {
   "cell_type": "code",
   "execution_count": 19,
   "metadata": {},
   "outputs": [],
   "source": [
    "# определим ИНН для сотрудника в ГО2\n",
    "\n",
    "for index, record in df2.iterrows():\n",
    "    if count_uniq_id_emp_go2 < uniq_id and sum_income_emp_go2 <= level_income:\n",
    "        emp_go2.append(record)\n",
    "        count_uniq_id_emp_go2 += 1 if record['Холдинг'] == 'Уникальный_ID' else 0\n",
    "        sum_income_emp_go2 += record['Потенциальный доход']\n",
    "    else:\n",
    "        continue"
   ]
  },
  {
   "cell_type": "code",
   "execution_count": 20,
   "metadata": {},
   "outputs": [],
   "source": [
    "# соберем пакеты в датафреймы\n",
    "\n",
    "df_emp_go1_1 = pd.DataFrame(emp_go1_1)\n",
    "df_emp_go1_2 = pd.DataFrame(emp_go1_2)\n",
    "df_emp_go2 = pd.DataFrame(emp_go2)\n",
    "df_emp_go3_1 = pd.DataFrame(emp_go3_1)\n",
    "df_emp_go3_2 = pd.DataFrame(emp_go3_2)"
   ]
  },
  {
   "cell_type": "code",
   "execution_count": 21,
   "metadata": {},
   "outputs": [
    {
     "name": "stdout",
     "output_type": "stream",
     "text": [
      "Доля не клиентов: Головное отделение\n",
      "ГО1    0.347826\n",
      "Name: Сотрудничество, dtype: float64\n",
      "--------------------------------------\n",
      "Количество уникальных id: Головное отделение\n",
      "ГО1    61\n",
      "Name: Холдинг, dtype: int64\n",
      "--------------------------------------\n",
      "Суммарный потенциальный доход: 649350976\n",
      "--------------------------------------\n",
      "Доля не клиентов: Головное отделение\n",
      "ГО1    0.350877\n",
      "Name: Сотрудничество, dtype: float64\n",
      "--------------------------------------\n",
      "Количество уникальных id: Головное отделение\n",
      "ГО1    64\n",
      "Name: Холдинг, dtype: int64\n",
      "--------------------------------------\n",
      "Суммарный потенциальный доход: 649366486\n",
      "--------------------------------------\n",
      "Доля не клиентов: Головное отделение\n",
      "ГО2   NaN\n",
      "Name: Сотрудничество, dtype: float64\n",
      "--------------------------------------\n",
      "Количество уникальных id: Головное отделение\n",
      "ГО2    87\n",
      "Name: Холдинг, dtype: int64\n",
      "--------------------------------------\n",
      "Суммарный потенциальный доход: 652360260\n",
      "--------------------------------------\n",
      "Доля не клиентов: Головное отделение\n",
      "ГО3    0.245763\n",
      "Name: Сотрудничество, dtype: float64\n",
      "--------------------------------------\n",
      "Количество уникальных id: Головное отделение\n",
      "ГО3    54\n",
      "Name: Холдинг, dtype: int64\n",
      "--------------------------------------\n",
      "Суммарный потенциальный доход: 653918171\n",
      "--------------------------------------\n",
      "Доля не клиентов: Головное отделение\n",
      "ГО3    0.247863\n",
      "Name: Сотрудничество, dtype: float64\n",
      "--------------------------------------\n",
      "Количество уникальных id: Головное отделение\n",
      "ГО3    47\n",
      "Name: Холдинг, dtype: int64\n",
      "--------------------------------------\n",
      "Суммарный потенциальный доход: 653971410\n",
      "--------------------------------------\n"
     ]
    }
   ],
   "source": [
    "# проверим что разбиение прошло успешно\n",
    "\n",
    "for i in [df_emp_go1_1, df_emp_go1_2, df_emp_go2, df_emp_go3_1, df_emp_go3_2]:\n",
    "    chek_df(i)"
   ]
  },
  {
   "cell_type": "code",
   "execution_count": 22,
   "metadata": {},
   "outputs": [
    {
     "data": {
      "text/html": [
       "<div>\n",
       "<style scoped>\n",
       "    .dataframe tbody tr th:only-of-type {\n",
       "        vertical-align: middle;\n",
       "    }\n",
       "\n",
       "    .dataframe tbody tr th {\n",
       "        vertical-align: top;\n",
       "    }\n",
       "\n",
       "    .dataframe thead th {\n",
       "        text-align: right;\n",
       "    }\n",
       "</style>\n",
       "<table border=\"1\" class=\"dataframe\">\n",
       "  <thead>\n",
       "    <tr style=\"text-align: right;\">\n",
       "      <th></th>\n",
       "      <th>ФИО</th>\n",
       "      <th>Головное отделение</th>\n",
       "    </tr>\n",
       "  </thead>\n",
       "  <tbody>\n",
       "    <tr>\n",
       "      <th>0</th>\n",
       "      <td>Пушкин Александр Сергеевич</td>\n",
       "      <td>ГО1</td>\n",
       "    </tr>\n",
       "    <tr>\n",
       "      <th>1</th>\n",
       "      <td>Гоголь Николай Васильевич</td>\n",
       "      <td>ГО3</td>\n",
       "    </tr>\n",
       "    <tr>\n",
       "      <th>2</th>\n",
       "      <td>Достоевский Федор Михайлович</td>\n",
       "      <td>ГО2</td>\n",
       "    </tr>\n",
       "    <tr>\n",
       "      <th>3</th>\n",
       "      <td>Толстой Лев Николаевич</td>\n",
       "      <td>ГО1</td>\n",
       "    </tr>\n",
       "    <tr>\n",
       "      <th>4</th>\n",
       "      <td>Чехов Антон Павлович</td>\n",
       "      <td>ГО3</td>\n",
       "    </tr>\n",
       "  </tbody>\n",
       "</table>\n",
       "</div>"
      ],
      "text/plain": [
       "                            ФИО Головное отделение\n",
       "0    Пушкин Александр Сергеевич                ГО1\n",
       "1     Гоголь Николай Васильевич                ГО3\n",
       "2  Достоевский Федор Михайлович                ГО2\n",
       "3        Толстой Лев Николаевич                ГО1\n",
       "4          Чехов Антон Павлович                ГО3"
      ]
     },
     "execution_count": 22,
     "metadata": {},
     "output_type": "execute_result"
    }
   ],
   "source": [
    "data_2"
   ]
  },
  {
   "cell_type": "code",
   "execution_count": 23,
   "metadata": {},
   "outputs": [],
   "source": [
    "# распределим пакеты между сотрудниками\n",
    "\n",
    "df_emp_go1_1['ФИО'] = 'Пушкин Александр Сергеевич'\n",
    "df_emp_go1_2['ФИО'] = 'Толстой Лев Николаевич'\n",
    "df_emp_go2['ФИО'] = 'Достоевский Федор Михайлович'\n",
    "df_emp_go3_1['ФИО'] = 'Гоголь Николай Васильевич'\n",
    "df_emp_go3_2['ФИО'] = 'Чехов Антон Павлович'"
   ]
  },
  {
   "cell_type": "code",
   "execution_count": 24,
   "metadata": {},
   "outputs": [
    {
     "name": "stdout",
     "output_type": "stream",
     "text": [
      "<class 'pandas.core.frame.DataFrame'>\n",
      "Index: 561 entries, 721 to 481\n",
      "Data columns (total 6 columns):\n",
      " #   Column               Non-Null Count  Dtype \n",
      "---  ------               --------------  ----- \n",
      " 0   ИНН                  561 non-null    int64 \n",
      " 1   Холдинг              561 non-null    object\n",
      " 2   Сотрудничество       561 non-null    object\n",
      " 3   Головное отделение   561 non-null    object\n",
      " 4   Потенциальный доход  561 non-null    int64 \n",
      " 5   ФИО                  561 non-null    object\n",
      "dtypes: int64(2), object(4)\n",
      "memory usage: 30.7+ KB\n",
      "None\n"
     ]
    }
   ],
   "source": [
    "# объединим в один датасет\n",
    "\n",
    "data_total = pd.concat([df_emp_go1_1, df_emp_go1_2, df_emp_go2, df_emp_go3_1, df_emp_go3_2])\n",
    "print(data_total.info())"
   ]
  },
  {
   "cell_type": "code",
   "execution_count": 25,
   "metadata": {},
   "outputs": [
    {
     "data": {
      "text/plain": [
       "ФИО\n",
       "Гоголь Николай Васильевич       54\n",
       "Достоевский Федор Михайлович    87\n",
       "Пушкин Александр Сергеевич      61\n",
       "Толстой Лев Николаевич          64\n",
       "Чехов Антон Павлович            47\n",
       "Name: Холдинг, dtype: int64"
      ]
     },
     "execution_count": 25,
     "metadata": {},
     "output_type": "execute_result"
    }
   ],
   "source": [
    "# найдем число уникальных id, которых в пакете у каждого должно быть меньше 150\n",
    "\n",
    "data_total.query(\"Холдинг == 'Уникальный_ID'\").groupby('ФИО')['Холдинг'].count()"
   ]
  },
  {
   "cell_type": "code",
   "execution_count": 26,
   "metadata": {},
   "outputs": [
    {
     "data": {
      "text/plain": [
       "ФИО\n",
       "Гоголь Николай Васильевич       0.25\n",
       "Достоевский Федор Михайлович     NaN\n",
       "Пушкин Александр Сергеевич      0.35\n",
       "Толстой Лев Николаевич          0.35\n",
       "Чехов Антон Павлович            0.25\n",
       "Name: Сотрудничество, dtype: float64"
      ]
     },
     "execution_count": 26,
     "metadata": {},
     "output_type": "execute_result"
    }
   ],
   "source": [
    "# найдем долю не клиентов по сотрудникам\n",
    "\n",
    "round(data_total[data_total['Сотрудничество'] == 'Не клиент'].\\\n",
    "    groupby('ФИО')['Сотрудничество'].count() / data_total.\\\n",
    "    groupby('ФИО')['Сотрудничество'].count(), 2)"
   ]
  },
  {
   "cell_type": "code",
   "execution_count": 27,
   "metadata": {},
   "outputs": [
    {
     "data": {
      "text/plain": [
       "ФИО\n",
       "Гоголь Николай Васильевич       653918171\n",
       "Достоевский Федор Михайлович    652360260\n",
       "Пушкин Александр Сергеевич      649350976\n",
       "Толстой Лев Николаевич          649366486\n",
       "Чехов Антон Павлович            653971410\n",
       "Name: Потенциальный доход, dtype: int64"
      ]
     },
     "execution_count": 27,
     "metadata": {},
     "output_type": "execute_result"
    }
   ],
   "source": [
    "# найдем суммарный потенциальный доход для каждого КМ\n",
    "\n",
    "data_total.groupby('ФИО')['Потенциальный доход'].sum()"
   ]
  },
  {
   "cell_type": "code",
   "execution_count": null,
   "metadata": {},
   "outputs": [
    {
     "name": "stdout",
     "output_type": "stream",
     "text": [
      "Величина отношения min/max потенциальных доходов равна: 0.993\n"
     ]
    }
   ],
   "source": [
    "# посчитаем отношение самого min/max доходов по сотрудникам\n",
    "\n",
    "print('Величина отношения min/max потенциальных доходов равна:', round(649350976/653971410,3) )"
   ]
  },
  {
   "cell_type": "markdown",
   "metadata": {},
   "source": [
    "ВЫВОД:\n",
    "\n",
    "Нам удалось сформировать пакеты для каждого КМ т.о. чтобы были соблюдены все условия:\n",
    "\n",
    "1. Кол-во уникальных ID в пакете не более 150.\n",
    "2. Доля не клиентов в пакете не более 35%\n",
    "3. Пакет содержит ИНН только из данного головного отделения где присутствует КМ.\n",
    "4. Пакет должен быть сбалансированным по потенциалу у каждого КМ.\n",
    "\n",
    "Расхождение в потенциальном доходе у КМ с наименьшим значением и КМ с наибольшим значением составило менее 1% (если точнее, то 0.7%)\n",
    "Т.о. можем считать, что пакеты сбалансированы."
   ]
  }
 ],
 "metadata": {
  "kernelspec": {
   "display_name": "base",
   "language": "python",
   "name": "python3"
  },
  "language_info": {
   "codemirror_mode": {
    "name": "ipython",
    "version": 3
   },
   "file_extension": ".py",
   "mimetype": "text/x-python",
   "name": "python",
   "nbconvert_exporter": "python",
   "pygments_lexer": "ipython3",
   "version": "3.12.7"
  }
 },
 "nbformat": 4,
 "nbformat_minor": 2
}
