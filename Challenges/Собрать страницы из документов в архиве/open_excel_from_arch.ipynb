{
 "cells": [
  {
   "cell_type": "code",
   "execution_count": null,
   "metadata": {},
   "outputs": [],
   "source": [
    "# импортируем библиотеки\n",
    "\n",
    "import pandas as pd\n",
    "import os\n",
    "import zipfile"
   ]
  },
  {
   "cell_type": "code",
   "execution_count": null,
   "metadata": {},
   "outputs": [],
   "source": [
    "# создаем переменные с расположением архива, названием директории, куда будем распаковывать архив, и названием итогового файла\n",
    "\n",
    "zip_file_path = '/home/user/Рабочий стол/VS code/New_folder.zip'\n",
    "temp_dir = 'temp_excel_files'\n",
    "output_file = 'total.xlsx'"
   ]
  },
  {
   "cell_type": "code",
   "execution_count": null,
   "metadata": {},
   "outputs": [],
   "source": [
    "# создаем директорию\n",
    "\n",
    "os.makedirs(temp_dir, exist_ok=True)"
   ]
  },
  {
   "cell_type": "code",
   "execution_count": null,
   "metadata": {},
   "outputs": [],
   "source": [
    "# извлечем все файлы из архива в директорию\n",
    "\n",
    "with zipfile.ZipFile(zip_file_path, 'r') as zip_ref:\n",
    "    zip_ref.extractall(temp_dir)"
   ]
  },
  {
   "cell_type": "code",
   "execution_count": null,
   "metadata": {},
   "outputs": [
    {
     "name": "stderr",
     "output_type": "stream",
     "text": [
      "/opt/Anaconda3/python-anaconda3-2021/lib/python3.9/site-packages/openpyxl/styles/stylesheet.py:226: UserWarning: Workbook contains no default style, apply openpyxl's default\n",
      "  warn(\"Workbook contains no default style, apply openpyxl's default\")\n"
     ]
    }
   ],
   "source": [
    "# пройдем по всем файлам в формате 'xlsx'\n",
    "# найдем в каждом файле лист 'DATA_MISMATCH_ERROR' и добавим каждый лист в список\n",
    "# если листа в файле нет, то идем дальше\n",
    "\n",
    "all_tables = []\n",
    "\n",
    "for file in os.listdir(temp_dir):\n",
    "    if file.endswith('.xlsx'):\n",
    "        file_path = os.path.join(temp_dir, file)\n",
    "        try:\n",
    "            df = pd.read_excel(file_path, sheet_name='DATA_MISMATCH_ERROR')\n",
    "            all_tables.append(df)\n",
    "        except ValueError:\n",
    "            pass"
   ]
  },
  {
   "cell_type": "code",
   "execution_count": null,
   "metadata": {},
   "outputs": [],
   "source": [
    "# объединим все листы в списке в один документ и сохраним его\n",
    "\n",
    "comb_df = pd.concat(all_tables, ignore_index=True)\n",
    "comb_df.to_excel(output_file, index=False)"
   ]
  },
  {
   "cell_type": "code",
   "execution_count": null,
   "metadata": {},
   "outputs": [],
   "source": [
    "# удалим созданную директорию\n",
    "\n",
    "import shutil\n",
    "shutil.rmtree(temp_dir)"
   ]
  }
 ],
 "metadata": {
  "kernelspec": {
   "display_name": "base",
   "language": "python",
   "name": "python3"
  },
  "language_info": {
   "codemirror_mode": {
    "name": "ipython",
    "version": 3
   },
   "file_extension": ".py",
   "mimetype": "text/x-python",
   "name": "python",
   "nbconvert_exporter": "python",
   "pygments_lexer": "ipython3",
   "version": "3.9.7"
  }
 },
 "nbformat": 4,
 "nbformat_minor": 2
}
